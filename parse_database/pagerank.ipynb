{
 "metadata": {
  "name": "",
  "signature": "sha256:3e8510df35794f834a1fd0df3b20a08c25400879b02a72039d7fd3554ffed58c"
 },
 "nbformat": 3,
 "nbformat_minor": 0,
 "worksheets": [
  {
   "cells": [
    {
     "cell_type": "code",
     "collapsed": false,
     "input": [
      "from datetime import datetime\n",
      "import json\n",
      "import pandas as pd\n",
      "import matplotlib\n",
      "%matplotlib inline\n",
      "\n",
      "path = '/Users/dexter/Work/dataminign/hep-th-citations.csv'\n",
      "\n",
      "import graphlab as gl\n",
      "from graphlab import SGraph, Vertex, Edge, SFrame\n",
      "\n",
      "sf = SFrame.read_csv(path);\n"
     ],
     "language": "python",
     "metadata": {},
     "outputs": [
      {
       "html": [
        "<pre>PROGRESS: Finished parsing file /Users/dexter/Work/dataminign/hep-th-citations.csv</pre>"
       ],
       "metadata": {},
       "output_type": "display_data",
       "text": [
        "PROGRESS: Finished parsing file /Users/dexter/Work/dataminign/hep-th-citations.csv"
       ]
      },
      {
       "html": [
        "<pre>PROGRESS: Parsing completed. Parsed 100 lines in 0.095184 secs.</pre>"
       ],
       "metadata": {},
       "output_type": "display_data",
       "text": [
        "PROGRESS: Parsing completed. Parsed 100 lines in 0.095184 secs."
       ]
      },
      {
       "html": [
        "<pre>PROGRESS: Finished parsing file /Users/dexter/Work/dataminign/hep-th-citations.csv</pre>"
       ],
       "metadata": {},
       "output_type": "display_data",
       "text": [
        "PROGRESS: Finished parsing file /Users/dexter/Work/dataminign/hep-th-citations.csv"
       ]
      },
      {
       "html": [
        "<pre>PROGRESS: Parsing completed. Parsed 352807 lines in 0.213369 secs.</pre>"
       ],
       "metadata": {},
       "output_type": "display_data",
       "text": [
        "PROGRESS: Parsing completed. Parsed 352807 lines in 0.213369 secs."
       ]
      },
      {
       "output_type": "stream",
       "stream": "stdout",
       "text": [
        "Unable to infer column types. Defaulting to str\n",
        "Could not detect types. Using str for each column.\n"
       ]
      }
     ],
     "prompt_number": 4
    },
    {
     "cell_type": "code",
     "collapsed": false,
     "input": [
      "g = SGraph().add_edges(sf, src_field='src', dst_field='dst')"
     ],
     "language": "python",
     "metadata": {},
     "outputs": [],
     "prompt_number": 6
    },
    {
     "cell_type": "code",
     "collapsed": false,
     "input": [
      "g.summary()"
     ],
     "language": "python",
     "metadata": {},
     "outputs": [
      {
       "metadata": {},
       "output_type": "pyout",
       "prompt_number": 7,
       "text": [
        "{'num_edges': 352807, 'num_vertices': 27770}"
       ]
      }
     ],
     "prompt_number": 7
    }
   ],
   "metadata": {}
  }
 ]
}